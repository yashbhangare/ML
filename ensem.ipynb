{
 "cells": [
  {
   "cell_type": "code",
   "execution_count": 4,
   "metadata": {},
   "outputs": [],
   "source": [
    "import pandas as pd\n",
    "import numpy as np\n",
    "import matplotlib.pyplot as plt\n",
    "from sklearn.utils import shuffle\n",
    "from sklearn.preprocessing import StandardScaler\n",
    "from sklearn.metrics import confusion_matrix\n",
    "from sklearn import metrics #Import scikit-learn metrics module for accuracy calculation\n",
    "from sklearn.metrics import accuracy_score, f1_score, precision_score, recall_score, classification_report, confusion_matrix"
   ]
  },
  {
   "cell_type": "code",
   "execution_count": 5,
   "metadata": {},
   "outputs": [],
   "source": [
    "df=pd.read_csv(\"heartt.csv\",header=0)"
   ]
  },
  {
   "cell_type": "code",
   "execution_count": 6,
   "metadata": {},
   "outputs": [
    {
     "name": "stdout",
     "output_type": "stream",
     "text": [
      "<class 'pandas.core.frame.DataFrame'>\n",
      "RangeIndex: 303 entries, 0 to 302\n",
      "Data columns (total 14 columns):\n",
      "age         303 non-null int64\n",
      "sex         303 non-null int64\n",
      "cp          303 non-null int64\n",
      "trestbps    303 non-null int64\n",
      "chol        303 non-null int64\n",
      "fbs         303 non-null int64\n",
      "restecg     303 non-null int64\n",
      "thalach     303 non-null int64\n",
      "exang       303 non-null int64\n",
      "oldpeak     303 non-null float64\n",
      "slope       303 non-null int64\n",
      "ca          303 non-null int64\n",
      "thal        303 non-null int64\n",
      "target      303 non-null int64\n",
      "dtypes: float64(1), int64(13)\n",
      "memory usage: 33.2 KB\n"
     ]
    }
   ],
   "source": [
    "df.info()"
   ]
  },
  {
   "cell_type": "code",
   "execution_count": 7,
   "metadata": {},
   "outputs": [],
   "source": [
    "feature_cols=['age','sex','cp','trestbps','chol','fbs','restecg','thalach','exanf','oldpeak','slope','ca','thal']"
   ]
  },
  {
   "cell_type": "code",
   "execution_count": 8,
   "metadata": {},
   "outputs": [
    {
     "name": "stdout",
     "output_type": "stream",
     "text": [
      "age           int64\n",
      "sex           int64\n",
      "cp            int64\n",
      "trestbps      int64\n",
      "chol          int64\n",
      "fbs           int64\n",
      "restecg       int64\n",
      "thalach       int64\n",
      "exang         int64\n",
      "oldpeak     float64\n",
      "slope         int64\n",
      "ca            int64\n",
      "thal          int64\n",
      "target        int64\n",
      "dtype: object\n"
     ]
    }
   ],
   "source": [
    "print(df.dtypes)"
   ]
  },
  {
   "cell_type": "code",
   "execution_count": 9,
   "metadata": {},
   "outputs": [
    {
     "name": "stdout",
     "output_type": "stream",
     "text": [
      "age         False\n",
      "sex         False\n",
      "cp          False\n",
      "trestbps    False\n",
      "chol        False\n",
      "fbs         False\n",
      "restecg     False\n",
      "thalach     False\n",
      "exang       False\n",
      "oldpeak     False\n",
      "slope       False\n",
      "ca          False\n",
      "thal        False\n",
      "target      False\n",
      "dtype: bool\n"
     ]
    }
   ],
   "source": [
    "print(df.isnull().any())"
   ]
  },
  {
   "cell_type": "code",
   "execution_count": 10,
   "metadata": {},
   "outputs": [],
   "source": [
    "x=df.iloc[:,:-1]\n",
    "y=df.iloc[:,-1]\n"
   ]
  },
  {
   "cell_type": "code",
   "execution_count": 11,
   "metadata": {},
   "outputs": [
    {
     "name": "stdout",
     "output_type": "stream",
     "text": [
      "     age  sex  cp  trestbps  chol  fbs  restecg  thalach  exang  oldpeak  \\\n",
      "0     63    1   3       145   233    1        0      150      0      2.3   \n",
      "1     37    1   2       130   250    0        1      187      0      3.5   \n",
      "2     41    0   1       130   204    0        0      172      0      1.4   \n",
      "3     56    1   1       120   236    0        1      178      0      0.8   \n",
      "4     57    0   0       120   354    0        1      163      1      0.6   \n",
      "..   ...  ...  ..       ...   ...  ...      ...      ...    ...      ...   \n",
      "298   57    0   0       140   241    0        1      123      1      0.2   \n",
      "299   45    1   3       110   264    0        1      132      0      1.2   \n",
      "300   68    1   0       144   193    1        1      141      0      3.4   \n",
      "301   57    1   0       130   131    0        1      115      1      1.2   \n",
      "302   57    0   1       130   236    0        0      174      0      0.0   \n",
      "\n",
      "     slope  ca  thal  \n",
      "0        0   0     1  \n",
      "1        0   0     2  \n",
      "2        2   0     2  \n",
      "3        2   0     2  \n",
      "4        2   0     2  \n",
      "..     ...  ..   ...  \n",
      "298      1   0     3  \n",
      "299      1   0     3  \n",
      "300      1   2     3  \n",
      "301      1   1     3  \n",
      "302      1   1     2  \n",
      "\n",
      "[303 rows x 13 columns]\n"
     ]
    }
   ],
   "source": [
    "print(x)"
   ]
  },
  {
   "cell_type": "code",
   "execution_count": 12,
   "metadata": {},
   "outputs": [
    {
     "name": "stdout",
     "output_type": "stream",
     "text": [
      "0      1\n",
      "1      1\n",
      "2      1\n",
      "3      1\n",
      "4      1\n",
      "      ..\n",
      "298    0\n",
      "299    0\n",
      "300    0\n",
      "301    0\n",
      "302    0\n",
      "Name: target, Length: 303, dtype: int64\n",
      "----------------------------------------------------------------------------\n",
      "294    0\n",
      "183    0\n",
      "93     1\n",
      "56     1\n",
      "134    1\n",
      "      ..\n",
      "68     1\n",
      "256    0\n",
      "216    0\n",
      "125    1\n",
      "291    0\n",
      "Name: target, Length: 303, dtype: int64\n"
     ]
    }
   ],
   "source": [
    "print(y)\n",
    "x,y=shuffle(x,y)\n",
    "print(\"----------------------------------------------------------------------------\")\n",
    "print(y)"
   ]
  },
  {
   "cell_type": "code",
   "execution_count": null,
   "metadata": {},
   "outputs": [],
   "source": []
  },
  {
   "cell_type": "code",
   "execution_count": 13,
   "metadata": {},
   "outputs": [],
   "source": [
    "from sklearn.model_selection import train_test_split\n",
    "from sklearn.naive_bayes import GaussianNB"
   ]
  },
  {
   "cell_type": "code",
   "execution_count": null,
   "metadata": {},
   "outputs": [],
   "source": []
  },
  {
   "cell_type": "code",
   "execution_count": 14,
   "metadata": {},
   "outputs": [],
   "source": [
    "x_scale=StandardScaler()"
   ]
  },
  {
   "cell_type": "code",
   "execution_count": 15,
   "metadata": {},
   "outputs": [],
   "source": [
    "X=x_scale.fit_transform(x)\n",
    "x=X\n",
    "from sklearn.model_selection import StratifiedKFold\n",
    "skf=StratifiedKFold(n_splits=5,random_state=None)\n",
    "for train_index,test_index in skf.split(x,y):\n",
    "    #print(\"train:\",train_index,\"validation\",test_index)\n",
    "    x_train,x_test=x[train_index],x[test_index]\n",
    "    y_train,y_test=y[train_index],y[test_index]\n"
   ]
  },
  {
   "cell_type": "code",
   "execution_count": 16,
   "metadata": {},
   "outputs": [],
   "source": [
    "X_train,X_test,Y_train,Y_test=train_test_split(x,y,test_size=0.25,random_state=43)#ytest-actual result"
   ]
  },
  {
   "cell_type": "code",
   "execution_count": 17,
   "metadata": {},
   "outputs": [],
   "source": [
    "# NAIVE BAYE'S CLASSIFIER"
   ]
  },
  {
   "cell_type": "code",
   "execution_count": 18,
   "metadata": {},
   "outputs": [
    {
     "name": "stdout",
     "output_type": "stream",
     "text": [
      "0  yes\n",
      "1  yes\n",
      "2  yes\n",
      "3  yes\n",
      "4  no\n",
      "5  yes\n",
      "6  yes\n",
      "7  no\n",
      "8  no\n",
      "9  no\n",
      "10  yes\n",
      "11  no\n",
      "12  yes\n",
      "13  no\n",
      "14  no\n",
      "15  yes\n",
      "16  yes\n",
      "17  no\n",
      "18  no\n",
      "19  no\n",
      "20  yes\n",
      "21  no\n",
      "22  no\n",
      "23  yes\n",
      "24  yes\n",
      "25  no\n",
      "26  no\n",
      "27  no\n",
      "28  no\n",
      "29  yes\n",
      "30  yes\n",
      "31  no\n",
      "32  yes\n",
      "33  yes\n",
      "34  no\n",
      "35  yes\n",
      "36  no\n",
      "37  yes\n",
      "38  yes\n",
      "39  no\n",
      "40  no\n",
      "41  yes\n",
      "42  yes\n",
      "43  yes\n",
      "44  no\n",
      "45  no\n",
      "46  yes\n",
      "47  yes\n",
      "48  no\n",
      "49  yes\n",
      "50  yes\n",
      "51  no\n",
      "52  no\n",
      "53  no\n",
      "54  yes\n",
      "55  yes\n",
      "56  no\n",
      "57  yes\n",
      "58  no\n",
      "59  yes\n",
      "60  yes\n",
      "61  no\n",
      "62  no\n",
      "63  no\n",
      "64  no\n",
      "65  yes\n",
      "66  yes\n",
      "67  no\n",
      "68  no\n",
      "69  no\n",
      "70  yes\n",
      "71  no\n",
      "72  yes\n",
      "73  no\n",
      "74  yes\n",
      "75  no\n",
      "--------------------------------------------------------------------------------------------------------\n",
      "Accuracy of NB: 0.7763157894736842\n",
      "confusion matrix:\n",
      "[[32 10]\n",
      " [ 7 27]]\n",
      "Precision: 0.775121275121275\n",
      "Recall: 0.7780112044817926\n",
      "F1-Score: 0.7753434185359067\n",
      "--------------------------------------------------------------------------------------------------------\n"
     ]
    }
   ],
   "source": [
    "classifier=GaussianNB()\n",
    "classifier.fit(X_train,Y_train)\n",
    "y_predict=classifier.predict(X_test)\n",
    "#print(y_predict)\n",
    "\n",
    "for i in range(len(y_predict)):\n",
    "    if y_predict[i]==1:\n",
    "        print(i,\" yes\")\n",
    "    else:\n",
    "        print(i,\" no\")\n",
    "        \n",
    "nb_acc=metrics.accuracy_score(Y_test, y_predict)        \n",
    "cm=confusion_matrix(Y_test, y_predict)\n",
    "\n",
    "print(\"--------------------------------------------------------------------------------------------------------\")        \n",
    "print(\"Accuracy of NB:\",nb_acc) \n",
    "print(\"confusion matrix:\")\n",
    "print(cm)\n",
    "\n",
    "print(\"Precision:\",precision_score(Y_test, y_predict, average=\"macro\"))\n",
    "print(\"Recall:\",recall_score(Y_test, y_predict, average=\"macro\"))\n",
    "print(\"F1-Score:\",f1_score(Y_test, y_predict, average=\"macro\"))\n",
    "print(\"--------------------------------------------------------------------------------------------------------\")        "
   ]
  },
  {
   "cell_type": "code",
   "execution_count": 20,
   "metadata": {},
   "outputs": [],
   "source": [
    "#classifier_best = classifier.best_estimator_"
   ]
  },
  {
   "cell_type": "code",
   "execution_count": null,
   "metadata": {},
   "outputs": [],
   "source": []
  },
  {
   "cell_type": "code",
   "execution_count": null,
   "metadata": {},
   "outputs": [],
   "source": []
  },
  {
   "cell_type": "code",
   "execution_count": null,
   "metadata": {},
   "outputs": [],
   "source": []
  },
  {
   "cell_type": "code",
   "execution_count": null,
   "metadata": {},
   "outputs": [],
   "source": []
  },
  {
   "cell_type": "code",
   "execution_count": null,
   "metadata": {},
   "outputs": [],
   "source": []
  },
  {
   "cell_type": "code",
   "execution_count": null,
   "metadata": {},
   "outputs": [],
   "source": []
  },
  {
   "cell_type": "code",
   "execution_count": 21,
   "metadata": {},
   "outputs": [
    {
     "name": "stdout",
     "output_type": "stream",
     "text": [
      "0  yes\n",
      "1  no\n",
      "2  yes\n",
      "3  yes\n",
      "4  no\n",
      "5  yes\n",
      "6  yes\n",
      "7  no\n",
      "8  no\n",
      "9  no\n",
      "10  yes\n",
      "11  no\n",
      "12  yes\n",
      "13  no\n",
      "14  yes\n",
      "15  yes\n",
      "16  yes\n",
      "17  no\n",
      "18  no\n",
      "19  no\n",
      "20  yes\n",
      "21  no\n",
      "22  no\n",
      "23  no\n",
      "24  yes\n",
      "25  no\n",
      "26  yes\n",
      "27  no\n",
      "28  yes\n",
      "29  yes\n",
      "30  yes\n",
      "31  no\n",
      "32  yes\n",
      "33  yes\n",
      "34  no\n",
      "35  yes\n",
      "36  no\n",
      "37  yes\n",
      "38  yes\n",
      "39  no\n",
      "40  no\n",
      "41  yes\n",
      "42  no\n",
      "43  yes\n",
      "44  no\n",
      "45  no\n",
      "46  yes\n",
      "47  yes\n",
      "48  no\n",
      "49  yes\n",
      "50  yes\n",
      "51  no\n",
      "52  no\n",
      "53  no\n",
      "54  yes\n",
      "55  yes\n",
      "56  no\n",
      "57  yes\n",
      "58  yes\n",
      "59  no\n",
      "60  no\n",
      "61  no\n",
      "62  no\n",
      "63  no\n",
      "64  yes\n",
      "65  yes\n",
      "66  yes\n",
      "67  no\n",
      "68  no\n",
      "69  no\n",
      "70  yes\n",
      "71  no\n",
      "72  yes\n",
      "73  no\n",
      "74  yes\n",
      "75  no\n",
      "--------------------------------------------------------------------------------------------------------\n",
      "Accuracy of Logistic Regression: 0.8289473684210527\n",
      "confusion matrix:\n",
      "[[34  8]\n",
      " [ 5 29]]\n",
      "Precision: 0.8277893277893278\n",
      "Recall: 0.8312324929971988\n",
      "F1-Score: 0.8282037906451052\n",
      "--------------------------------------------------------------------------------------------------------\n"
     ]
    },
    {
     "name": "stderr",
     "output_type": "stream",
     "text": [
      "c:\\users\\lenovo\\appdata\\local\\programs\\python\\python37-32\\lib\\site-packages\\sklearn\\linear_model\\logistic.py:432: FutureWarning: Default solver will be changed to 'lbfgs' in 0.22. Specify a solver to silence this warning.\n",
      "  FutureWarning)\n"
     ]
    }
   ],
   "source": [
    "from sklearn.linear_model import LogisticRegression \n",
    "Classification = LogisticRegression(fit_intercept=True)\n",
    "Classification.fit(X_train, Y_train)\n",
    "y_predict = Classification.predict(X_test)\n",
    "#print(y_predicted)\n",
    "for i in range(len(y_predict)):\n",
    "    if y_predict[i]==1:\n",
    "        print(i,\" yes\")\n",
    "    else:\n",
    "        print(i,\" no\")\n",
    "        \n",
    "lr_acc=metrics.accuracy_score(Y_test, y_predict)\n",
    "cm=confusion_matrix(Y_test, y_predict)\n",
    "\n",
    "print(\"--------------------------------------------------------------------------------------------------------\")        \n",
    "print(\"Accuracy of Logistic Regression:\",lr_acc)\n",
    "print(\"confusion matrix:\")\n",
    "print(cm)\n",
    "print(\"Precision:\",precision_score(Y_test, y_predict, average=\"macro\"))\n",
    "print(\"Recall:\",recall_score(Y_test, y_predict, average=\"macro\"))\n",
    "print(\"F1-Score:\",f1_score(Y_test, y_predict, average=\"macro\"))\n",
    "print(\"--------------------------------------------------------------------------------------------------------\")        "
   ]
  },
  {
   "cell_type": "code",
   "execution_count": null,
   "metadata": {},
   "outputs": [],
   "source": []
  },
  {
   "cell_type": "code",
   "execution_count": null,
   "metadata": {},
   "outputs": [],
   "source": []
  },
  {
   "cell_type": "code",
   "execution_count": 22,
   "metadata": {},
   "outputs": [
    {
     "name": "stdout",
     "output_type": "stream",
     "text": [
      "0  yes\n",
      "1  no\n",
      "2  no\n",
      "3  yes\n",
      "4  no\n",
      "5  yes\n",
      "6  yes\n",
      "7  yes\n",
      "8  no\n",
      "9  no\n",
      "10  yes\n",
      "11  no\n",
      "12  yes\n",
      "13  yes\n",
      "14  yes\n",
      "15  yes\n",
      "16  yes\n",
      "17  no\n",
      "18  no\n",
      "19  no\n",
      "20  yes\n",
      "21  no\n",
      "22  no\n",
      "23  yes\n",
      "24  yes\n",
      "25  no\n",
      "26  no\n",
      "27  no\n",
      "28  no\n",
      "29  no\n",
      "30  yes\n",
      "31  no\n",
      "32  yes\n",
      "33  no\n",
      "34  no\n",
      "35  yes\n",
      "36  no\n",
      "37  yes\n",
      "38  yes\n",
      "39  no\n",
      "40  no\n",
      "41  yes\n",
      "42  no\n",
      "43  yes\n",
      "44  no\n",
      "45  no\n",
      "46  yes\n",
      "47  yes\n",
      "48  no\n",
      "49  yes\n",
      "50  yes\n",
      "51  no\n",
      "52  no\n",
      "53  no\n",
      "54  yes\n",
      "55  no\n",
      "56  no\n",
      "57  yes\n",
      "58  yes\n",
      "59  yes\n",
      "60  no\n",
      "61  yes\n",
      "62  yes\n",
      "63  no\n",
      "64  yes\n",
      "65  yes\n",
      "66  yes\n",
      "67  no\n",
      "68  no\n",
      "69  no\n",
      "70  yes\n",
      "71  no\n",
      "72  yes\n",
      "73  no\n",
      "74  yes\n",
      "75  no\n",
      "--------------------------------------------------------------------------------------------------------\n",
      "Accuracy of DT: 0.7763157894736842\n",
      "confusion matrix:\n",
      "[[32 10]\n",
      " [ 7 27]]\n",
      "Precision: 0.775121275121275\n",
      "Recall: 0.7780112044817926\n",
      "F1-Score: 0.7753434185359067\n",
      "--------------------------------------------------------------------------------------------------------\n"
     ]
    }
   ],
   "source": [
    "from sklearn.tree import DecisionTreeClassifier # Import Decision Tree Classifier\n",
    "clf = DecisionTreeClassifier()\n",
    "# Train Decision Tree Classifer\n",
    "clf = clf.fit(X_train,Y_train)\n",
    "#Predict the response for test dataset\n",
    "y_predict = clf.predict(X_test)\n",
    "#print(y_pred)\n",
    "for i in range(len(y_predict)):\n",
    "    if y_predict[i]==1:\n",
    "        print(i,\" yes\")\n",
    "    else:\n",
    "        print(i,\" no\")\n",
    "        \n",
    "dt_acc=metrics.accuracy_score(Y_test, y_predict)        \n",
    "cm=confusion_matrix(Y_test, y_predict)\n",
    "\n",
    "print(\"--------------------------------------------------------------------------------------------------------\")        \n",
    "print(\"Accuracy of DT:\",dt_acc)\n",
    "print(\"confusion matrix:\")\n",
    "print(cm)\n",
    "print(\"Precision:\",precision_score(Y_test, y_predict, average=\"macro\"))\n",
    "print(\"Recall:\",recall_score(Y_test, y_predict, average=\"macro\"))\n",
    "print(\"F1-Score:\",f1_score(Y_test, y_predict, average=\"macro\"))\n",
    "print(\"--------------------------------------------------------------------------------------------------------\")        "
   ]
  },
  {
   "cell_type": "code",
   "execution_count": null,
   "metadata": {},
   "outputs": [],
   "source": []
  },
  {
   "cell_type": "code",
   "execution_count": null,
   "metadata": {},
   "outputs": [],
   "source": []
  },
  {
   "cell_type": "code",
   "execution_count": null,
   "metadata": {},
   "outputs": [],
   "source": []
  },
  {
   "cell_type": "code",
   "execution_count": null,
   "metadata": {},
   "outputs": [],
   "source": []
  },
  {
   "cell_type": "code",
   "execution_count": 23,
   "metadata": {},
   "outputs": [],
   "source": [
    "from sklearn import svm\n",
    "\n",
    "#Create a svm Classifier\n",
    "clf2 = svm.SVC(kernel='linear') # Linear Kernel\n",
    "\n",
    "#Train the model using the training sets\n",
    "clf2.fit(X_train, Y_train)\n",
    "\n",
    "#Predict the response for test dataset\n",
    "y_predict = clf2.predict(X_test)"
   ]
  },
  {
   "cell_type": "code",
   "execution_count": 24,
   "metadata": {},
   "outputs": [
    {
     "name": "stdout",
     "output_type": "stream",
     "text": [
      "0  yes\n",
      "1  yes\n",
      "2  yes\n",
      "3  yes\n",
      "4  no\n",
      "5  yes\n",
      "6  yes\n",
      "7  no\n",
      "8  no\n",
      "9  no\n",
      "10  yes\n",
      "11  no\n",
      "12  yes\n",
      "13  no\n",
      "14  yes\n",
      "15  yes\n",
      "16  yes\n",
      "17  no\n",
      "18  no\n",
      "19  no\n",
      "20  yes\n",
      "21  no\n",
      "22  no\n",
      "23  no\n",
      "24  yes\n",
      "25  no\n",
      "26  yes\n",
      "27  no\n",
      "28  no\n",
      "29  yes\n",
      "30  yes\n",
      "31  no\n",
      "32  yes\n",
      "33  yes\n",
      "34  no\n",
      "35  yes\n",
      "36  no\n",
      "37  yes\n",
      "38  yes\n",
      "39  no\n",
      "40  no\n",
      "41  yes\n",
      "42  no\n",
      "43  yes\n",
      "44  no\n",
      "45  no\n",
      "46  yes\n",
      "47  yes\n",
      "48  no\n",
      "49  yes\n",
      "50  yes\n",
      "51  no\n",
      "52  no\n",
      "53  no\n",
      "54  yes\n",
      "55  yes\n",
      "56  no\n",
      "57  yes\n",
      "58  yes\n",
      "59  yes\n",
      "60  no\n",
      "61  no\n",
      "62  no\n",
      "63  no\n",
      "64  yes\n",
      "65  yes\n",
      "66  yes\n",
      "67  no\n",
      "68  no\n",
      "69  no\n",
      "70  yes\n",
      "71  no\n",
      "72  yes\n",
      "73  yes\n",
      "74  yes\n",
      "75  no\n",
      "--------------------------------------------------------------------------------------------------------\n",
      "Accuracy of SVM: 0.8289473684210527\n",
      "confusion matrix:\n",
      "[[33  9]\n",
      " [ 4 30]]\n",
      "Precision: 0.8305613305613306\n",
      "Recall: 0.8340336134453781\n",
      "F1-Score: 0.8286804230969308\n",
      "--------------------------------------------------------------------------------------------------------\n"
     ]
    }
   ],
   "source": [
    "#print(y_pred)\n",
    "for i in range(len(y_predict)):\n",
    "    if y_predict[i]==1:\n",
    "        print(i,\" yes\")\n",
    "    else:\n",
    "        print(i,\" no\")\n",
    "        \n",
    "svm_acc=metrics.accuracy_score(Y_test, y_predict)\n",
    "cm=confusion_matrix(Y_test, y_predict)\n",
    "\n",
    "print(\"--------------------------------------------------------------------------------------------------------\")        \n",
    "print(\"Accuracy of SVM:\",svm_acc)\n",
    "print(\"confusion matrix:\")\n",
    "print(cm)\n",
    "print(\"Precision:\",precision_score(Y_test, y_predict, average=\"macro\"))\n",
    "print(\"Recall:\",recall_score(Y_test, y_predict, average=\"macro\"))\n",
    "print(\"F1-Score:\",f1_score(Y_test, y_predict, average=\"macro\"))\n",
    "print(\"--------------------------------------------------------------------------------------------------------\")        "
   ]
  },
  {
   "cell_type": "code",
   "execution_count": null,
   "metadata": {},
   "outputs": [],
   "source": []
  },
  {
   "cell_type": "code",
   "execution_count": null,
   "metadata": {},
   "outputs": [],
   "source": []
  },
  {
   "cell_type": "code",
   "execution_count": 25,
   "metadata": {},
   "outputs": [
    {
     "data": {
      "image/png": "[encoded data removed]",
      "text/plain": [
       "<Figure size 432x288 with 1 Axes>"
      ]
     },
     "metadata": {
      "needs_background": "light"
     },
     "output_type": "display_data"
    }
   ],
   "source": [
    "global str\n",
    "#fig=plt.figure()\n",
    "#ax=fig.add_axes([0,0,1,1])\n",
    "x_axis=['Naive_Bayes','LogisticRegg','Decision_tree','SVM']\n",
    "y_axis=[nb_acc*100,lr_acc*100,dt_acc*100,svm_acc*100]\n",
    "\n",
    "plt.xlabel('Different_Techniques')\n",
    "plt.ylabel('Accuracy')\n",
    "plt.title('Accuracy analysis')\n",
    "plt.tight_layout()\n",
    "\n",
    "plt.bar(x_axis,y_axis,0.4,0,color='purple')\n",
    "plt.show()"
   ]
  },
  {
   "cell_type": "code",
   "execution_count": null,
   "metadata": {},
   "outputs": [],
   "source": []
  },
  {
   "cell_type": "code",
   "execution_count": 26,
   "metadata": {},
   "outputs": [
    {
     "name": "stdout",
     "output_type": "stream",
     "text": [
      "Accuracy of NB: 0.7763157894736842\n",
      "Accuracy of LR: 0.8289473684210527\n",
      "Accuracy of DT: 0.7763157894736842\n",
      "Accuracy of SVM: 0.8289473684210527\n"
     ]
    }
   ],
   "source": [
    "\n",
    "print(\"Accuracy of NB:\",nb_acc)\n",
    "print(\"Accuracy of LR:\",lr_acc)\n",
    "print(\"Accuracy of DT:\",dt_acc)\n",
    "print(\"Accuracy of SVM:\",svm_acc)\n"
   ]
  },
  {
   "cell_type": "code",
   "execution_count": null,
   "metadata": {},
   "outputs": [],
   "source": []
  },
  {
   "cell_type": "code",
   "execution_count": 27,
   "metadata": {},
   "outputs": [
    {
     "name": "stdout",
     "output_type": "stream",
     "text": [
      "Classification: 0.8289473684210527\n"
     ]
    }
   ],
   "source": [
    "#print(‘knn: {}’.format(knn_best.score(X_test, y_test)))\n",
    "#print(‘rf: {}’.format(rf_best.score(X_test, y_test)))\n",
    "print(\"Classification: {}\".format(Classification.score(X_test, Y_test)))"
   ]
  },
  {
   "cell_type": "code",
   "execution_count": null,
   "metadata": {},
   "outputs": [],
   "source": []
  },
  {
   "cell_type": "code",
   "execution_count": 38,
   "metadata": {},
   "outputs": [],
   "source": [
    "from sklearn.ensemble import VotingClassifier\n",
    "estimators=[(\"CLassification\", lr_acc), (\"clf\", dt_acc), (\"clf2\", svm_acc)]"
   ]
  },
  {
   "cell_type": "code",
   "execution_count": 39,
   "metadata": {},
   "outputs": [],
   "source": [
    "\n",
    "ensemble = VotingClassifier(estimators, voting=\"hard\")\n",
    "xtrain=X_train\n",
    "ytrain=Y_train"
   ]
  },
  {
   "cell_type": "code",
   "execution_count": 40,
   "metadata": {},
   "outputs": [
    {
     "ename": "TypeError",
     "evalue": "Cannot clone object '0.8289473684210527' (type <class 'numpy.float64'>): it does not seem to be a scikit-learn estimator as it does not implement a 'get_params' methods.",
     "output_type": "error",
     "traceback": [
      "\u001b[1;31m---------------------------------------------------------------------------\u001b[0m",
      "\u001b[1;31mEmpty\u001b[0m                                     Traceback (most recent call last)",
      "\u001b[1;32mc:\\users\\lenovo\\appdata\\local\\programs\\python\\python37-32\\lib\\site-packages\\joblib\\parallel.py\u001b[0m in \u001b[0;36mdispatch_one_batch\u001b[1;34m(self, iterator)\u001b[0m\n\u001b[0;32m    795\u001b[0m             \u001b[1;32mtry\u001b[0m\u001b[1;33m:\u001b[0m\u001b[1;33m\u001b[0m\u001b[0m\n\u001b[1;32m--> 796\u001b[1;33m                 \u001b[0mtasks\u001b[0m \u001b[1;33m=\u001b[0m \u001b[0mself\u001b[0m\u001b[1;33m.\u001b[0m\u001b[0m_ready_batches\u001b[0m\u001b[1;33m.\u001b[0m\u001b[0mget\u001b[0m\u001b[1;33m(\u001b[0m\u001b[0mblock\u001b[0m\u001b[1;33m=\u001b[0m\u001b[1;32mFalse\u001b[0m\u001b[1;33m)\u001b[0m\u001b[1;33m\u001b[0m\u001b[0m\n\u001b[0m\u001b[0;32m    797\u001b[0m             \u001b[1;32mexcept\u001b[0m \u001b[0mqueue\u001b[0m\u001b[1;33m.\u001b[0m\u001b[0mEmpty\u001b[0m\u001b[1;33m:\u001b[0m\u001b[1;33m\u001b[0m\u001b[0m\n",
      "\u001b[1;32mc:\\users\\lenovo\\appdata\\local\\programs\\python\\python37-32\\lib\\queue.py\u001b[0m in \u001b[0;36mget\u001b[1;34m(self, block, timeout)\u001b[0m\n\u001b[0;32m    166\u001b[0m                 \u001b[1;32mif\u001b[0m \u001b[1;32mnot\u001b[0m \u001b[0mself\u001b[0m\u001b[1;33m.\u001b[0m\u001b[0m_qsize\u001b[0m\u001b[1;33m(\u001b[0m\u001b[1;33m)\u001b[0m\u001b[1;33m:\u001b[0m\u001b[1;33m\u001b[0m\u001b[0m\n\u001b[1;32m--> 167\u001b[1;33m                     \u001b[1;32mraise\u001b[0m \u001b[0mEmpty\u001b[0m\u001b[1;33m\u001b[0m\u001b[0m\n\u001b[0m\u001b[0;32m    168\u001b[0m             \u001b[1;32melif\u001b[0m \u001b[0mtimeout\u001b[0m \u001b[1;32mis\u001b[0m \u001b[1;32mNone\u001b[0m\u001b[1;33m:\u001b[0m\u001b[1;33m\u001b[0m\u001b[0m\n",
      "\u001b[1;31mEmpty\u001b[0m: ",
      "\nDuring handling of the above exception, another exception occurred:\n",
      "\u001b[1;31mTypeError\u001b[0m                                 Traceback (most recent call last)",
      "\u001b[1;32m<ipython-input-40-73d89b8c87d4>\u001b[0m in \u001b[0;36m<module>\u001b[1;34m\u001b[0m\n\u001b[1;32m----> 1\u001b[1;33m \u001b[0mensemble\u001b[0m\u001b[1;33m.\u001b[0m\u001b[0mfit\u001b[0m\u001b[1;33m(\u001b[0m\u001b[0mxtrain\u001b[0m\u001b[1;33m,\u001b[0m\u001b[0mytrain\u001b[0m\u001b[1;33m)\u001b[0m\u001b[1;33m\u001b[0m\u001b[0m\n\u001b[0m",
      "\u001b[1;32mc:\\users\\lenovo\\appdata\\local\\programs\\python\\python37-32\\lib\\site-packages\\sklearn\\ensemble\\voting.py\u001b[0m in \u001b[0;36mfit\u001b[1;34m(self, X, y, sample_weight)\u001b[0m\n\u001b[0;32m    277\u001b[0m         \u001b[0mtransformed_y\u001b[0m \u001b[1;33m=\u001b[0m \u001b[0mself\u001b[0m\u001b[1;33m.\u001b[0m\u001b[0mle_\u001b[0m\u001b[1;33m.\u001b[0m\u001b[0mtransform\u001b[0m\u001b[1;33m(\u001b[0m\u001b[0my\u001b[0m\u001b[1;33m)\u001b[0m\u001b[1;33m\u001b[0m\u001b[0m\n\u001b[0;32m    278\u001b[0m \u001b[1;33m\u001b[0m\u001b[0m\n\u001b[1;32m--> 279\u001b[1;33m         \u001b[1;32mreturn\u001b[0m \u001b[0msuper\u001b[0m\u001b[1;33m(\u001b[0m\u001b[1;33m)\u001b[0m\u001b[1;33m.\u001b[0m\u001b[0mfit\u001b[0m\u001b[1;33m(\u001b[0m\u001b[0mX\u001b[0m\u001b[1;33m,\u001b[0m \u001b[0mtransformed_y\u001b[0m\u001b[1;33m,\u001b[0m \u001b[0msample_weight\u001b[0m\u001b[1;33m)\u001b[0m\u001b[1;33m\u001b[0m\u001b[0m\n\u001b[0m\u001b[0;32m    280\u001b[0m \u001b[1;33m\u001b[0m\u001b[0m\n\u001b[0;32m    281\u001b[0m     \u001b[1;32mdef\u001b[0m \u001b[0mpredict\u001b[0m\u001b[1;33m(\u001b[0m\u001b[0mself\u001b[0m\u001b[1;33m,\u001b[0m \u001b[0mX\u001b[0m\u001b[1;33m)\u001b[0m\u001b[1;33m:\u001b[0m\u001b[1;33m\u001b[0m\u001b[0m\n",
      "\u001b[1;32mc:\\users\\lenovo\\appdata\\local\\programs\\python\\python37-32\\lib\\site-packages\\sklearn\\ensemble\\voting.py\u001b[0m in \u001b[0;36mfit\u001b[1;34m(self, X, y, sample_weight)\u001b[0m\n\u001b[0;32m     99\u001b[0m                 delayed(_parallel_fit_estimator)(clone(clf), X, y,\n\u001b[0;32m    100\u001b[0m                                                  sample_weight=sample_weight)\n\u001b[1;32m--> 101\u001b[1;33m                 \u001b[1;32mfor\u001b[0m \u001b[0mclf\u001b[0m \u001b[1;32min\u001b[0m \u001b[0mclfs\u001b[0m \u001b[1;32mif\u001b[0m \u001b[0mclf\u001b[0m \u001b[1;32mnot\u001b[0m \u001b[1;32min\u001b[0m \u001b[1;33m(\u001b[0m\u001b[1;32mNone\u001b[0m\u001b[1;33m,\u001b[0m \u001b[1;34m'drop'\u001b[0m\u001b[1;33m)\u001b[0m\u001b[1;33m\u001b[0m\u001b[0m\n\u001b[0m\u001b[0;32m    102\u001b[0m             )\n\u001b[0;32m    103\u001b[0m \u001b[1;33m\u001b[0m\u001b[0m\n",
      "\u001b[1;32mc:\\users\\lenovo\\appdata\\local\\programs\\python\\python37-32\\lib\\site-packages\\joblib\\parallel.py\u001b[0m in \u001b[0;36m__call__\u001b[1;34m(self, iterable)\u001b[0m\n\u001b[0;32m   1001\u001b[0m             \u001b[1;31m# remaining jobs.\u001b[0m\u001b[1;33m\u001b[0m\u001b[1;33m\u001b[0m\u001b[0m\n\u001b[0;32m   1002\u001b[0m             \u001b[0mself\u001b[0m\u001b[1;33m.\u001b[0m\u001b[0m_iterating\u001b[0m \u001b[1;33m=\u001b[0m \u001b[1;32mFalse\u001b[0m\u001b[1;33m\u001b[0m\u001b[0m\n\u001b[1;32m-> 1003\u001b[1;33m             \u001b[1;32mif\u001b[0m \u001b[0mself\u001b[0m\u001b[1;33m.\u001b[0m\u001b[0mdispatch_one_batch\u001b[0m\u001b[1;33m(\u001b[0m\u001b[0miterator\u001b[0m\u001b[1;33m)\u001b[0m\u001b[1;33m:\u001b[0m\u001b[1;33m\u001b[0m\u001b[0m\n\u001b[0m\u001b[0;32m   1004\u001b[0m                 \u001b[0mself\u001b[0m\u001b[1;33m.\u001b[0m\u001b[0m_iterating\u001b[0m \u001b[1;33m=\u001b[0m \u001b[0mself\u001b[0m\u001b[1;33m.\u001b[0m\u001b[0m_original_iterator\u001b[0m \u001b[1;32mis\u001b[0m \u001b[1;32mnot\u001b[0m \u001b[1;32mNone\u001b[0m\u001b[1;33m\u001b[0m\u001b[0m\n\u001b[0;32m   1005\u001b[0m \u001b[1;33m\u001b[0m\u001b[0m\n",
      "\u001b[1;32mc:\\users\\lenovo\\appdata\\local\\programs\\python\\python37-32\\lib\\site-packages\\joblib\\parallel.py\u001b[0m in \u001b[0;36mdispatch_one_batch\u001b[1;34m(self, iterator)\u001b[0m\n\u001b[0;32m    805\u001b[0m                 \u001b[0mbig_batch_size\u001b[0m \u001b[1;33m=\u001b[0m \u001b[0mbatch_size\u001b[0m \u001b[1;33m*\u001b[0m \u001b[0mn_jobs\u001b[0m\u001b[1;33m\u001b[0m\u001b[0m\n\u001b[0;32m    806\u001b[0m \u001b[1;33m\u001b[0m\u001b[0m\n\u001b[1;32m--> 807\u001b[1;33m                 \u001b[0mislice\u001b[0m \u001b[1;33m=\u001b[0m \u001b[0mlist\u001b[0m\u001b[1;33m(\u001b[0m\u001b[0mitertools\u001b[0m\u001b[1;33m.\u001b[0m\u001b[0mislice\u001b[0m\u001b[1;33m(\u001b[0m\u001b[0miterator\u001b[0m\u001b[1;33m,\u001b[0m \u001b[0mbig_batch_size\u001b[0m\u001b[1;33m)\u001b[0m\u001b[1;33m)\u001b[0m\u001b[1;33m\u001b[0m\u001b[0m\n\u001b[0m\u001b[0;32m    808\u001b[0m                 \u001b[1;32mif\u001b[0m \u001b[0mlen\u001b[0m\u001b[1;33m(\u001b[0m\u001b[0mislice\u001b[0m\u001b[1;33m)\u001b[0m \u001b[1;33m==\u001b[0m \u001b[1;36m0\u001b[0m\u001b[1;33m:\u001b[0m\u001b[1;33m\u001b[0m\u001b[0m\n\u001b[0;32m    809\u001b[0m                     \u001b[1;32mreturn\u001b[0m \u001b[1;32mFalse\u001b[0m\u001b[1;33m\u001b[0m\u001b[0m\n",
      "\u001b[1;32mc:\\users\\lenovo\\appdata\\local\\programs\\python\\python37-32\\lib\\site-packages\\sklearn\\ensemble\\voting.py\u001b[0m in \u001b[0;36m<genexpr>\u001b[1;34m(.0)\u001b[0m\n\u001b[0;32m     99\u001b[0m                 delayed(_parallel_fit_estimator)(clone(clf), X, y,\n\u001b[0;32m    100\u001b[0m                                                  sample_weight=sample_weight)\n\u001b[1;32m--> 101\u001b[1;33m                 \u001b[1;32mfor\u001b[0m \u001b[0mclf\u001b[0m \u001b[1;32min\u001b[0m \u001b[0mclfs\u001b[0m \u001b[1;32mif\u001b[0m \u001b[0mclf\u001b[0m \u001b[1;32mnot\u001b[0m \u001b[1;32min\u001b[0m \u001b[1;33m(\u001b[0m\u001b[1;32mNone\u001b[0m\u001b[1;33m,\u001b[0m \u001b[1;34m'drop'\u001b[0m\u001b[1;33m)\u001b[0m\u001b[1;33m\u001b[0m\u001b[0m\n\u001b[0m\u001b[0;32m    102\u001b[0m             )\n\u001b[0;32m    103\u001b[0m \u001b[1;33m\u001b[0m\u001b[0m\n",
      "\u001b[1;32mc:\\users\\lenovo\\appdata\\local\\programs\\python\\python37-32\\lib\\site-packages\\sklearn\\base.py\u001b[0m in \u001b[0;36mclone\u001b[1;34m(estimator, safe)\u001b[0m\n\u001b[0;32m     58\u001b[0m                             \u001b[1;34m\"it does not seem to be a scikit-learn estimator \"\u001b[0m\u001b[1;33m\u001b[0m\u001b[0m\n\u001b[0;32m     59\u001b[0m                             \u001b[1;34m\"as it does not implement a 'get_params' methods.\"\u001b[0m\u001b[1;33m\u001b[0m\u001b[0m\n\u001b[1;32m---> 60\u001b[1;33m                             % (repr(estimator), type(estimator)))\n\u001b[0m\u001b[0;32m     61\u001b[0m     \u001b[0mklass\u001b[0m \u001b[1;33m=\u001b[0m \u001b[0mestimator\u001b[0m\u001b[1;33m.\u001b[0m\u001b[0m__class__\u001b[0m\u001b[1;33m\u001b[0m\u001b[0m\n\u001b[0;32m     62\u001b[0m     \u001b[0mnew_object_params\u001b[0m \u001b[1;33m=\u001b[0m \u001b[0mestimator\u001b[0m\u001b[1;33m.\u001b[0m\u001b[0mget_params\u001b[0m\u001b[1;33m(\u001b[0m\u001b[0mdeep\u001b[0m\u001b[1;33m=\u001b[0m\u001b[1;32mFalse\u001b[0m\u001b[1;33m)\u001b[0m\u001b[1;33m\u001b[0m\u001b[0m\n",
      "\u001b[1;31mTypeError\u001b[0m: Cannot clone object '0.8289473684210527' (type <class 'numpy.float64'>): it does not seem to be a scikit-learn estimator as it does not implement a 'get_params' methods."
     ]
    }
   ],
   "source": [
    "ensemble.fit(xtrain,ytrain)\n"
   ]
  },
  {
   "cell_type": "code",
   "execution_count": null,
   "metadata": {},
   "outputs": [],
   "source": []
  },
  {
   "cell_type": "code",
   "execution_count": null,
   "metadata": {},
   "outputs": [],
   "source": [
    "ensemble.score(X_test, Y_test)\n"
   ]
  },
  {
   "cell_type": "code",
   "execution_count": null,
   "metadata": {},
   "outputs": [],
   "source": []
  },
  {
   "cell_type": "code",
   "execution_count": null,
   "metadata": {},
   "outputs": [],
   "source": []
  },
  {
   "cell_type": "code",
   "execution_count": null,
   "metadata": {},
   "outputs": [],
   "source": []
  },
  {
   "cell_type": "code",
   "execution_count": null,
   "metadata": {},
   "outputs": [],
   "source": []
  },
  {
   "cell_type": "code",
   "execution_count": null,
   "metadata": {},
   "outputs": [],
   "source": []
  },
  {
   "cell_type": "code",
   "execution_count": null,
   "metadata": {},
   "outputs": [],
   "source": []
  },
  {
   "cell_type": "code",
   "execution_count": null,
   "metadata": {},
   "outputs": [],
   "source": []
  },
  {
   "cell_type": "code",
   "execution_count": null,
   "metadata": {},
   "outputs": [],
   "source": []
  },
  {
   "cell_type": "code",
   "execution_count": null,
   "metadata": {},
   "outputs": [],
   "source": []
  },
  {
   "cell_type": "code",
   "execution_count": null,
   "metadata": {},
   "outputs": [],
   "source": []
  },
  {
   "cell_type": "code",
   "execution_count": null,
   "metadata": {},
   "outputs": [],
   "source": []
  },
  {
   "cell_type": "code",
   "execution_count": null,
   "metadata": {},
   "outputs": [],
   "source": []
  },
  {
   "cell_type": "code",
   "execution_count": null,
   "metadata": {},
   "outputs": [],
   "source": []
  }
 ],
 "metadata": {
  "kernelspec": {
   "display_name": "Python 3",
   "language": "python",
   "name": "python3"
  },
  "language_info": {
   "codemirror_mode": {
    "name": "ipython",
    "version": 3
   },
   "file_extension": ".py",
   "mimetype": "text/x-python",
   "name": "python",
   "nbconvert_exporter": "python",
   "pygments_lexer": "ipython3",
   "version": "3.7.0"
  }
 },
 "nbformat": 4,
 "nbformat_minor": 2
}
